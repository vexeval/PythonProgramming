{
 "cells": [
  {
   "cell_type": "code",
   "execution_count": 4,
   "id": "70fb7237",
   "metadata": {},
   "outputs": [
    {
     "name": "stdout",
     "output_type": "stream",
     "text": [
      "{'name': 'Jack', 'age': 25, 'city': 'Lakeland'}\n",
      "{'name': 'Anna', 'age': 19, 'city': 'Orlando'}\n"
     ]
    }
   ],
   "source": [
    "# Dictionaries: mutable, unordered collection of key-value pairs. Keys are immutable.\n",
    "# key : value\n",
    "my_dict = {\"name\" : \"Jack\", \"age\" : 25, \"city\" : \"Lakeland\"}\n",
    "print(my_dict)\n",
    "\n",
    "my_dict2 = dict(name = \"Anna\", age = 19, city = \"Orlando\")\n",
    "print(my_dict2)\n"
   ]
  },
  {
   "cell_type": "code",
   "execution_count": null,
   "id": "c6c347c1",
   "metadata": {},
   "outputs": [
    {
     "name": "stdout",
     "output_type": "stream",
     "text": [
      "Jack\n",
      "{'name': 'Jack', 'age': 26, 'city': 'Lakeland', 'email': 'jack@floridapoly.edu'}\n",
      "not found\n"
     ]
    }
   ],
   "source": [
    "# Access a value\n",
    "my_dict = {\"name\" : \"Jack\", \"age\" : 25, \"city\" : \"Lakeland\"}\n",
    "print(my_dict[\"name\"])\n",
    "\n",
    "# Modify value\n",
    "my_dict[\"age\"] = 26\n",
    "\n",
    "# Add a new key-value pair\n",
    "my_dict[\"email\"] = \"jack@floridapoly.edu\"\n",
    "\n",
    "print(my_dict)\n",
    "# print(my_dict[\"address\"]) # Can't grab nonexistent pairs, generates error.\n",
    "\n",
    "# Get method returns a fallback value \"not found\" rather than raising an error if the key doesn't exist\n",
    "print(my_dict.get(\"address\", \"not found\"))"
   ]
  },
  {
   "cell_type": "code",
   "execution_count": 16,
   "id": "9c28ee45",
   "metadata": {},
   "outputs": [
    {
     "name": "stdout",
     "output_type": "stream",
     "text": [
      "dict_keys(['name', 'age', 'city', 'email'])\n",
      "dict_values(['Jack', 26, 'Lakeland', 'jack@floridapoly.edu'])\n",
      "dict_items([('name', 'Jack'), ('age', 26), ('city', 'Lakeland'), ('email', 'jack@floridapoly.edu')])\n"
     ]
    }
   ],
   "source": [
    "# Keys - returns all keys\n",
    "print(my_dict.keys())\n",
    "\n",
    "# Values - returns all values\n",
    "print(my_dict.values())\n",
    "\n",
    "# Items - returns key-value pairs\n",
    "print(my_dict.items())"
   ]
  },
  {
   "cell_type": "code",
   "execution_count": 30,
   "id": "4cfeeea5",
   "metadata": {},
   "outputs": [
    {
     "name": "stdout",
     "output_type": "stream",
     "text": [
      "name Anna\n",
      "age 19\n",
      "city Orlando\n",
      "\n",
      "name -> Jack\n",
      "age -> 26\n",
      "city -> Lakeland\n",
      "email -> jack@floridapoly.edu\n",
      "\n",
      "Anna 19 Orlando\n",
      "Ron 25 Jacksonville\n",
      "Madison 33 Tampa\n"
     ]
    }
   ],
   "source": [
    "# Iteration through dictionaries\n",
    "anna = dict(name = \"Anna\", age = 19, city = \"Orlando\")\n",
    "ron = dict(name = \"Ron\", age = 25, city = \"Jacksonville\")\n",
    "madison = dict(name = \"Madison\", age = 33, city = \"Tampa\")\n",
    "\n",
    "users = [anna, ron, madison]\n",
    "\n",
    "for pair in anna:\n",
    "    print(pair, anna[pair])\n",
    "\n",
    "print()\n",
    "\n",
    "for key, value in my_dict.items():\n",
    "    print(key, \"->\", value)\n",
    "\n",
    "print()\n",
    "\n",
    "for user in users:\n",
    "    print(user[\"name\"], user[\"age\"], user[\"city\"])"
   ]
  },
  {
   "cell_type": "code",
   "execution_count": null,
   "id": "3ddef909",
   "metadata": {},
   "outputs": [
    {
     "name": "stdout",
     "output_type": "stream",
     "text": [
      "{'apple': 3, 'banana': 1, 'orange': 2}\n"
     ]
    }
   ],
   "source": [
    "# Count the frequency of words\n",
    "msg = \"apple banana orange apple orange apple\"\n",
    "words = msg.split(\" \")\n",
    "\n",
    "# create a dictionary\n",
    "word_count = {}\n",
    "for word in words:\n",
    "    word_count[word] = word_count.get(word, 0) + 1 # each time a word is seen, its counter is incremented by 1\n",
    "\n",
    "print(word_count)"
   ]
  },
  {
   "cell_type": "code",
   "execution_count": 35,
   "id": "f81ad2c9",
   "metadata": {},
   "outputs": [
    {
     "name": "stdout",
     "output_type": "stream",
     "text": [
      "{'red', 'green', 'blue'}\n",
      "{1, 2, 3, 4}\n",
      "set()\n"
     ]
    }
   ],
   "source": [
    "# Create a set\n",
    "# Set is a collection of unique elements (no duplicates)\n",
    "\n",
    "colors = {\"red\", \"blue\", \"green\"}\n",
    "numbers = set([1, 2, 3, 4, 3])\n",
    "\n",
    "# empty set\n",
    "empty_set = set()\n",
    "\n",
    "print(colors)\n",
    "print(numbers)\n",
    "print(empty_set)"
   ]
  },
  {
   "cell_type": "code",
   "execution_count": 43,
   "id": "46d0ba71",
   "metadata": {},
   "outputs": [
    {
     "name": "stdout",
     "output_type": "stream",
     "text": [
      "{1, 2, 3, 4, 5, 6, 7}\n",
      "{3, 4, 5}\n",
      "{1, 2}\n",
      "{6, 7}\n",
      "{1, 2, 6, 7}\n"
     ]
    }
   ],
   "source": [
    "set1 = {1, 2, 3, 4, 5}\n",
    "set2 = {3, 4, 5, 6, 7} # contains duplicates from set1\n",
    "\n",
    "# Combine elements from 2 sets (union)\n",
    "union_set = set1 | set2\n",
    "\n",
    "# Intersection of two sets\n",
    "intersection_set = set1 & set2\n",
    "\n",
    "# Difference\n",
    "difference_set = set1 - set2\n",
    "difference_set2 = set2 - set1\n",
    "difference_set3 = set1 ^ set2\n",
    "\n",
    "print(union_set)\n",
    "print(intersection_set)\n",
    "print(difference_set)\n",
    "print(difference_set2)\n",
    "print(difference_set3)"
   ]
  },
  {
   "cell_type": "code",
   "execution_count": null,
   "id": "a8275a66",
   "metadata": {},
   "outputs": [
    {
     "name": "stdout",
     "output_type": "stream",
     "text": [
      "{'red', 'purple', 'green'}\n"
     ]
    }
   ],
   "source": [
    "colors = {\"red\", \"blue\", \"green\"}\n",
    "\n",
    "colors.add(\"purple\")\n",
    "colors.remove(\"blue\") # would generate an error if blue was not in colors\n",
    "colors.discard(\"blue\") # no error if not in colors\n",
    "\n",
    "print(colors)"
   ]
  }
 ],
 "metadata": {
  "kernelspec": {
   "display_name": "Python 3",
   "language": "python",
   "name": "python3"
  },
  "language_info": {
   "codemirror_mode": {
    "name": "ipython",
    "version": 3
   },
   "file_extension": ".py",
   "mimetype": "text/x-python",
   "name": "python",
   "nbconvert_exporter": "python",
   "pygments_lexer": "ipython3",
   "version": "3.12.1"
  }
 },
 "nbformat": 4,
 "nbformat_minor": 5
}
