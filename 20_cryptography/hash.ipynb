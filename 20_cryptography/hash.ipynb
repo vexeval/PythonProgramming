{
 "cells": [
  {
   "cell_type": "code",
   "execution_count": 5,
   "id": "035c9447",
   "metadata": {},
   "outputs": [
    {
     "name": "stdout",
     "output_type": "stream",
     "text": [
      "Those who know.\n",
      "846b01ac006f9d5081a5e08ac88d113007bb49073ecd4f6cff6dfe29640f1f2e\n"
     ]
    }
   ],
   "source": [
    "import hashlib\n",
    "\n",
    "msg = \"Those who know.\"\n",
    "print(msg)\n",
    "\n",
    "# Convert to bytes\n",
    "b_msg = bytes(msg, \"utf-8\")\n",
    "\n",
    "# Calculate the hash\n",
    "hash_value = hashlib.sha256(b_msg).hexdigest()\n",
    "\n",
    "print(hash_value)"
   ]
  },
  {
   "cell_type": "code",
   "execution_count": 1,
   "id": "8094033a",
   "metadata": {},
   "outputs": [
    {
     "name": "stdout",
     "output_type": "stream",
     "text": [
      "cdaf4b04ed0017e98af023567b102fc7759cf87140f7f0ad8da53de823217d5b\n",
      "5b136592f774769e17b8917e7da642cfb50674d9a95f1355c78bc6d0737a606b\n"
     ]
    }
   ],
   "source": [
    "import hashlib\n",
    "\n",
    "# Create a file\n",
    "\n",
    "with open(\"test.txt\", \"w\") as file:\n",
    "    file.write(\"Secret data in a file. My password is MacAndCheese. Will must not see it.\")\n",
    "\n",
    "with open(\"test.txt\", \"rb\") as file_b:\n",
    "    file_content = file_b.read()\n",
    "\n",
    "# Create a hash of file content\n",
    "hash_value = hashlib.sha256(file_content)\n",
    "\n",
    "print(hash_value.hexdigest())\n",
    "\n",
    "with open(\"test.txt\", \"a\") as file:\n",
    "    file.write(\"New info\")\n",
    "\n",
    "with open(\"test.txt\", \"rb\") as file_b:\n",
    "    file_content = file_b.read()\n",
    "\n",
    "hash_value = hashlib.sha256(file_content)\n",
    "print(hash_value.hexdigest())"
   ]
  }
 ],
 "metadata": {
  "kernelspec": {
   "display_name": "Python 3",
   "language": "python",
   "name": "python3"
  },
  "language_info": {
   "codemirror_mode": {
    "name": "ipython",
    "version": 3
   },
   "file_extension": ".py",
   "mimetype": "text/x-python",
   "name": "python",
   "nbconvert_exporter": "python",
   "pygments_lexer": "ipython3",
   "version": "3.12.1"
  }
 },
 "nbformat": 4,
 "nbformat_minor": 5
}
