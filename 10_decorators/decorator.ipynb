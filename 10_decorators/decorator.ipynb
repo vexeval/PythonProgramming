{
 "cells": [
  {
   "cell_type": "code",
   "execution_count": 26,
   "id": "c26310b1",
   "metadata": {},
   "outputs": [
    {
     "name": "stdout",
     "output_type": "stream",
     "text": [
      "f took 0.400249719619751\n"
     ]
    }
   ],
   "source": [
    "# Define a function and measure its execution time\n",
    "\n",
    "# specific import\n",
    "from time import sleep, time\n",
    "\n",
    "def f():\n",
    "    sleep(0.4)\n",
    "\n",
    "def g():\n",
    "    sleep(0.2)\n",
    "\n",
    "def h():\n",
    "    print(\"HELLO WORLD\")\n",
    "\n",
    "# Get the current time\n",
    "\n",
    "t = time()\n",
    "f()\n",
    "print(\"f took\", time()-t)"
   ]
  },
  {
   "cell_type": "code",
   "execution_count": 27,
   "id": "ff260163",
   "metadata": {},
   "outputs": [
    {
     "name": "stdout",
     "output_type": "stream",
     "text": [
      "f took: 0.4002981185913086\n",
      "g took: 0.20011639595031738\n",
      "HELLO WORLD\n",
      "h took: 2.002716064453125e-05\n"
     ]
    }
   ],
   "source": [
    "# Let's optimize the measurement\n",
    "def measure(func):\n",
    "    t = time() # get current time\n",
    "    func() # call the received function\n",
    "    print(func.__name__, \"took:\", time()-t)\n",
    "\n",
    "measure(f)\n",
    "measure(g)\n",
    "measure(h)"
   ]
  },
  {
   "cell_type": "code",
   "execution_count": 28,
   "id": "cd8b4a0f",
   "metadata": {},
   "outputs": [
    {
     "name": "stdout",
     "output_type": "stream",
     "text": [
      "f2 took: 0.1000967025756836\n",
      "f2 took: 0.5000870227813721\n",
      "f2 took: 0.7001097202301025\n"
     ]
    }
   ],
   "source": [
    "def f2(sleep_time = 0.1):\n",
    "    sleep(sleep_time)\n",
    "\n",
    "def measure(func, *args, **kwargs):\n",
    "    t = time() # get current time\n",
    "    func(*args, **kwargs) # call the received function\n",
    "    print(func.__name__, \"took:\", time()-t)\n",
    "\n",
    "measure(f2)\n",
    "measure(f2, sleep_time=0.5)\n",
    "measure(f2, sleep_time=0.7)\n"
   ]
  },
  {
   "cell_type": "code",
   "execution_count": 29,
   "id": "5552d071",
   "metadata": {},
   "outputs": [
    {
     "name": "stdout",
     "output_type": "stream",
     "text": [
      "f2 took: 2.000089645385742\n"
     ]
    }
   ],
   "source": [
    "# Include a built-in measurement into a function\n",
    "\n",
    "def measure(func): # a decorator\n",
    "    def wrapper(*args, **kwargs):\n",
    "        t = time() # get current time\n",
    "        func(*args, **kwargs) # call the received function\n",
    "        print(func.__name__, \"took:\", time()-t)\n",
    "    return wrapper\n",
    "\n",
    "@measure\n",
    "def f2(sleep_time = 0.1):\n",
    "    sleep(sleep_time)\n",
    "\n",
    "f2(2)"
   ]
  },
  {
   "cell_type": "code",
   "execution_count": 36,
   "id": "37639120",
   "metadata": {},
   "outputs": [
    {
     "name": "stdout",
     "output_type": "stream",
     "text": [
      "f2 took: 1.000082015991211\n"
     ]
    }
   ],
   "source": [
    "from measure import f2\n",
    "\n",
    "f2(1)"
   ]
  },
  {
   "cell_type": "code",
   "execution_count": null,
   "id": "6ee61883",
   "metadata": {},
   "outputs": [],
   "source": []
  }
 ],
 "metadata": {
  "kernelspec": {
   "display_name": "Python 3",
   "language": "python",
   "name": "python3"
  },
  "language_info": {
   "codemirror_mode": {
    "name": "ipython",
    "version": 3
   },
   "file_extension": ".py",
   "mimetype": "text/x-python",
   "name": "python",
   "nbconvert_exporter": "python",
   "pygments_lexer": "ipython3",
   "version": "3.12.1"
  }
 },
 "nbformat": 4,
 "nbformat_minor": 5
}
