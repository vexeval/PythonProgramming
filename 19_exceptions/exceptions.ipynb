{
 "cells": [
  {
   "cell_type": "code",
   "execution_count": null,
   "id": "a0d72641",
   "metadata": {},
   "outputs": [
    {
     "name": "stdout",
     "output_type": "stream",
     "text": [
      "Error: Cannot add a string and an int\n",
      "Very important code\n"
     ]
    }
   ],
   "source": [
    "# FileNotFound, ZeroDivisionError, ImportError, SyntaxError, etc.\n",
    "# Handle these types of exceptions so program doesn't crash when problems occur\n",
    "\n",
    "# Try-Exception block\n",
    "\n",
    "try:\n",
    "    a = 1\n",
    "    a + \"a\"\n",
    "except TypeError as ve:\n",
    "    print(\"Error: Cannot add a string and an int\")\n",
    "\n",
    "print(\"Very important code\")\n",
    "\n"
   ]
  },
  {
   "cell_type": "code",
   "execution_count": null,
   "id": "c7382c4a",
   "metadata": {},
   "outputs": [
    {
     "name": "stdout",
     "output_type": "stream",
     "text": [
      "Error: list index out of range\n"
     ]
    }
   ],
   "source": [
    "def f():\n",
    "    l = [1, 2, 3]\n",
    "    print(l[3])\n",
    "try:\n",
    "    f()\n",
    "except IndexError as ve:\n",
    "    print(f\"Error: {ve}\")"
   ]
  },
  {
   "cell_type": "code",
   "execution_count": null,
   "id": "4b7cb632",
   "metadata": {},
   "outputs": [
    {
     "name": "stdout",
     "output_type": "stream",
     "text": [
      "ManBananas\n"
     ]
    }
   ],
   "source": [
    "# We can raise exceptions\n",
    "def add_strings(s1, s2):\n",
    "    if not (isinstance(s1, str) and isinstance(s2, str)):\n",
    "        raise TypeError(\"Both arguments must be strings\")\n",
    "    return s1 + s2\n",
    "\n",
    "try:\n",
    "    sum = add_strings(\"Man\", \"Bananas\")\n",
    "    # sum = add_strings(456, \"Bananas\")\n",
    "except TypeError as ve:\n",
    "    print(ve)\n",
    "else:\n",
    "    print(sum) # Expected result if no errors are raised"
   ]
  },
  {
   "cell_type": "code",
   "execution_count": null,
   "id": "cd31263e",
   "metadata": {},
   "outputs": [
    {
     "name": "stdout",
     "output_type": "stream",
     "text": [
      "Temperature is -40 degrees celsius\n",
      "Temperature is -30 degrees celsius\n",
      "Temperature is 1 degrees celsius\n",
      "Temperature is 10 degrees celsius\n"
     ]
    }
   ],
   "source": [
    "# Create our custom type exception\n",
    "\n",
    "class TemperatureRangeError(ValueError):\n",
    "    \"\"\"Raised when temperature range is invalid\"\"\"\n",
    "    pass\n",
    "\n",
    "class Temperature:\n",
    "    def __init__(self, celsius):\n",
    "        if not isinstance(celsius, (int, float)):\n",
    "            raise TypeError(\"Temperature must be an integer or float number\")\n",
    "        elif celsius < -273:\n",
    "            raise ValueError(\"Temperature cannot be below absolute zero (-273 C)\")\n",
    "        self.celsius = celsius\n",
    "    \n",
    "    def __str__(self):\n",
    "        return f\"Temperature is {self.celsius} degrees celsius\"\n",
    "\n",
    "    def set_range(self, min_temp, max_temp):\n",
    "        if not (isinstance(min_temp, Temperature) and isinstance(max_temp, Temperature)):\n",
    "            raise TypeError(\"Min and max temp should be Temperature objects\")\n",
    "        elif (min_temp.celsius > max_temp.celsius):\n",
    "            raise TemperatureRangeError(\"Min temp must be lower than max temperature\")\n",
    "        \n",
    "        self.min_temp = min_temp\n",
    "        self.max_temp = max_temp\n",
    "try:\n",
    "    temp = Temperature(-40)\n",
    "except TypeError as te:\n",
    "    temp = Temperature(10)\n",
    "    print(f\"Error: {te}\")\n",
    "except ValueError as ve:\n",
    "    temp = Temperature(0)\n",
    "    print(f\"Error: {ve}\")\n",
    "\n",
    "print(temp.__str__())\n",
    "\n",
    "# Using a except tuple for handling multiple exceptions\n",
    "try:\n",
    "    temp = Temperature(-30)\n",
    "    temp.set_range(Temperature(1), Temperature(10))\n",
    "except (TypeError, ValueError) as e:\n",
    "    temp = Temperature(10)\n",
    "    print(f\"Error: {e}\")\n",
    "\n",
    "print(temp.__str__())\n",
    "# print(temp.min_temp\n",
    "# print(temp.max_temp)"
   ]
  },
  {
   "cell_type": "code",
   "execution_count": null,
   "id": "8cbe3a3e",
   "metadata": {},
   "outputs": [],
   "source": []
  }
 ],
 "metadata": {
  "kernelspec": {
   "display_name": "Python 3",
   "language": "python",
   "name": "python3"
  },
  "language_info": {
   "codemirror_mode": {
    "name": "ipython",
    "version": 3
   },
   "file_extension": ".py",
   "mimetype": "text/x-python",
   "name": "python",
   "nbconvert_exporter": "python",
   "pygments_lexer": "ipython3",
   "version": "3.12.1"
  }
 },
 "nbformat": 4,
 "nbformat_minor": 5
}
