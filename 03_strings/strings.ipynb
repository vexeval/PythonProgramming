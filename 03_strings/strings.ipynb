{
 "cells": [
  {
   "cell_type": "code",
   "execution_count": null,
   "id": "8ab0ac86",
   "metadata": {},
   "outputs": [
    {
     "name": "stdout",
     "output_type": "stream",
     "text": [
      "14\n"
     ]
    }
   ],
   "source": [
    "# len function - returns number of elements in a collection\n",
    "text = \"Hello, Python.\"\n",
    "length = len(text)\n",
    "print(length)"
   ]
  },
  {
   "cell_type": "code",
   "execution_count": 5,
   "id": "8fc52f66",
   "metadata": {},
   "outputs": [
    {
     "name": "stdout",
     "output_type": "stream",
     "text": [
      "C\n",
      "s\n",
      "n\n",
      "i\n"
     ]
    }
   ],
   "source": [
    "# Access string elements\n",
    "name = \"Caspian\"\n",
    "print(name[0])\n",
    "print(name[2])\n",
    "\n",
    "# Use negative indices\n",
    "print(name[-1]) # the last character of the string\n",
    "print(name[-3])\n"
   ]
  },
  {
   "cell_type": "code",
   "execution_count": 11,
   "id": "0a4fe836",
   "metadata": {},
   "outputs": [
    {
     "name": "stdout",
     "output_type": "stream",
     "text": [
      "Python\n",
      "Pyt\n",
      "thon\n",
      "thon\n",
      "Pytho\n"
     ]
    }
   ],
   "source": [
    "# string slicing\n",
    "# specify the start and end of the slice\n",
    "language = \"Pytnon\"\n",
    "language = language.replace(\"n\", \"h\", 1)\n",
    "print(language)\n",
    "print(language[0:3])\n",
    "print(language[2:len(language)])\n",
    "print(language[2:])\n",
    "print(language[:5])"
   ]
  },
  {
   "cell_type": "code",
   "execution_count": 19,
   "id": "b5f29d03",
   "metadata": {},
   "outputs": [
    {
     "name": "stdout",
     "output_type": "stream",
     "text": [
      "hon\n",
      "Pto\n",
      "nhy\n",
      "nohtyP\n"
     ]
    }
   ],
   "source": [
    "# You can use negative indices\n",
    "language = \"Python\"\n",
    "\n",
    "print(language[-3:])\n",
    "\n",
    "# specify the step\n",
    "print(language[::2]) # every second character\n",
    "print(language[::-2]) # every second character\n",
    "\n",
    "# reverse a string\n",
    "print(language[::-1])"
   ]
  },
  {
   "cell_type": "code",
   "execution_count": 32,
   "id": "39ed36e9",
   "metadata": {},
   "outputs": [
    {
     "name": "stdout",
     "output_type": "stream",
     "text": [
      "56789\n",
      "12389\n"
     ]
    }
   ],
   "source": [
    "text = \"123456789\"\n",
    "# print the second half of text\n",
    "print(text[len(text)//2:])\n",
    "\n",
    "# print first 3 characters + last 2 characters\n",
    "print(text[:3] + text[-2:])"
   ]
  },
  {
   "cell_type": "code",
   "execution_count": 37,
   "id": "a9453890",
   "metadata": {},
   "outputs": [
    {
     "name": "stdout",
     "output_type": "stream",
     "text": [
      "Languages\n",
      "\tPython\n",
      "\tC#\n"
     ]
    }
   ],
   "source": [
    "# \\t for tab lineup\n",
    "print(\"Languages\")\n",
    "print(\"\\tPython\\n\\tC#\")"
   ]
  },
  {
   "cell_type": "code",
   "execution_count": 47,
   "id": "9fb86820",
   "metadata": {},
   "outputs": [
    {
     "name": "stdout",
     "output_type": "stream",
     "text": [
      "The person is a teenager\n"
     ]
    }
   ],
   "source": [
    "age = 18\n",
    "\n",
    "print(\"The person is a\", end=\" \")\n",
    "if (age < 2): print(\"baby\")\n",
    "elif (age < 4): print(\"toddler\")\n",
    "elif (age < 13): print(\"kid\")\n",
    "elif (age < 20): print(\"teenager\")\n",
    "else: print(\"adult\")"
   ]
  },
  {
   "cell_type": "code",
   "execution_count": 59,
   "id": "a0ad70d9",
   "metadata": {},
   "outputs": [
    {
     "name": "stdout",
     "output_type": "stream",
     "text": [
      "Toyota\n",
      "BMW\n",
      "AUDI\n",
      "Volkswagen\n",
      "Nissan\n"
     ]
    }
   ],
   "source": [
    "# split\n",
    "makes = \"  ToYota, BmW,    aUdI,   voLkSWAGen,  nisSAN\"\n",
    "car_makes = makes.split(\",\") # car_makes is a list of strings\n",
    "for make in car_makes:\n",
    "    make = make.lstrip()\n",
    "    make = make.lower()\n",
    "    if (make in [\"bmw\", \"audi\"]):\n",
    "        print(make.upper())\n",
    "    else:\n",
    "        print(make.title())"
   ]
  },
  {
   "cell_type": "code",
   "execution_count": 63,
   "id": "9629b554",
   "metadata": {},
   "outputs": [
    {
     "name": "stdout",
     "output_type": "stream",
     "text": [
      "Print using increments\n",
      "1\n",
      "3\n",
      "5\n",
      "7\n",
      "9\n",
      "Print all the squares from 1 to 20:\n",
      "1\n",
      "4\n",
      "9\n",
      "16\n",
      "25\n",
      "36\n",
      "49\n",
      "64\n",
      "81\n",
      "100\n",
      "121\n",
      "144\n",
      "169\n",
      "196\n",
      "225\n",
      "256\n",
      "289\n",
      "324\n",
      "361\n",
      "400\n"
     ]
    }
   ],
   "source": [
    "# for loop\n",
    "# range(first, second, increment) BIF\n",
    "# range() is exclusive on the right\n",
    "\n",
    "print(\"Print using increments\")\n",
    "for i in range(1, 10, 2):\n",
    "    print(i)\n",
    "\n",
    "print(\"Print all the squares from 1 to 20:\")\n",
    "for i in range(1, 21):\n",
    "    print(i**2)"
   ]
  },
  {
   "cell_type": "code",
   "execution_count": null,
   "id": "ab870fc1",
   "metadata": {},
   "outputs": [],
   "source": []
  }
 ],
 "metadata": {
  "kernelspec": {
   "display_name": "Python 3",
   "language": "python",
   "name": "python3"
  },
  "language_info": {
   "codemirror_mode": {
    "name": "ipython",
    "version": 3
   },
   "file_extension": ".py",
   "mimetype": "text/x-python",
   "name": "python",
   "nbconvert_exporter": "python",
   "pygments_lexer": "ipython3",
   "version": "3.12.1"
  }
 },
 "nbformat": 4,
 "nbformat_minor": 5
}
