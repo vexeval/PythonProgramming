{
 "cells": [
  {
   "cell_type": "code",
   "execution_count": 4,
   "id": "999bdbf1",
   "metadata": {},
   "outputs": [
    {
     "name": "stdout",
     "output_type": "stream",
     "text": [
      "35\n",
      "8\n",
      "64\n"
     ]
    }
   ],
   "source": [
    "# int function\n",
    "print(int(35.4))\n",
    "print(int(\"1000\", 2))\n",
    "print(int(\"100\", 8))"
   ]
  },
  {
   "cell_type": "code",
   "execution_count": 11,
   "id": "481f2b55",
   "metadata": {},
   "outputs": [
    {
     "name": "stdout",
     "output_type": "stream",
     "text": [
      "False\n",
      "False\n",
      "True\n",
      "False\n",
      "True\n",
      "True\n"
     ]
    }
   ],
   "source": [
    "# bool function (True, False)\n",
    "print(bool(not True))\n",
    "print(bool(0))\n",
    "print(bool(-1))\n",
    "print(bool(not True))\n",
    "print(bool(True and True))\n",
    "print(bool(True or False))"
   ]
  },
  {
   "cell_type": "code",
   "execution_count": 13,
   "id": "cdc21a3a",
   "metadata": {},
   "outputs": [
    {
     "name": "stdout",
     "output_type": "stream",
     "text": [
      "0.30000000000000004\n"
     ]
    }
   ],
   "source": [
    "# floats\n",
    "n2 = .1\n",
    "print(n2 + n2 + n2)"
   ]
  },
  {
   "cell_type": "code",
   "execution_count": 14,
   "id": "0c3ebbea",
   "metadata": {},
   "outputs": [
    {
     "name": "stdout",
     "output_type": "stream",
     "text": [
      "0.3\n"
     ]
    }
   ],
   "source": [
    "# decimal\n",
    "from decimal import Decimal\n",
    "d = Decimal(\"0.1\") + Decimal(\"0.1\") + Decimal(\"0.1\")\n",
    "print(d)"
   ]
  },
  {
   "cell_type": "code",
   "execution_count": null,
   "id": "fd2bf892",
   "metadata": {},
   "outputs": [
    {
     "name": "stdout",
     "output_type": "stream",
     "text": [
      "2025-08-25 15:30:51.675677\n"
     ]
    }
   ],
   "source": [
    "# importing\n",
    "from datetime import datetime as dt\n",
    "print(dt.now())"
   ]
  },
  {
   "cell_type": "code",
   "execution_count": 16,
   "id": "0f889f29",
   "metadata": {},
   "outputs": [
    {
     "name": "stdout",
     "output_type": "stream",
     "text": [
      "John Doe\n",
      "JOHN DOE\n",
      "john doe\n"
     ]
    }
   ],
   "source": [
    "# strings\n",
    "name = \"john doe\"\n",
    "print(name.title()) # each word begins with a capital letter.\n",
    "print(name.upper()) # all uppercase\n",
    "print(name.lower()) # all lowercase"
   ]
  },
  {
   "cell_type": "code",
   "execution_count": 18,
   "id": "f0243102",
   "metadata": {},
   "outputs": [
    {
     "name": "stdout",
     "output_type": "stream",
     "text": [
      "['__add__', '__class__', '__contains__', '__delattr__', '__dir__', '__doc__', '__eq__', '__format__', '__ge__', '__getattribute__', '__getitem__', '__getnewargs__', '__getstate__', '__gt__', '__hash__', '__init__', '__init_subclass__', '__iter__', '__le__', '__len__', '__lt__', '__mod__', '__mul__', '__ne__', '__new__', '__reduce__', '__reduce_ex__', '__repr__', '__rmod__', '__rmul__', '__setattr__', '__sizeof__', '__str__', '__subclasshook__', 'capitalize', 'casefold', 'center', 'count', 'encode', 'endswith', 'expandtabs', 'find', 'format', 'format_map', 'index', 'isalnum', 'isalpha', 'isascii', 'isdecimal', 'isdigit', 'isidentifier', 'islower', 'isnumeric', 'isprintable', 'isspace', 'istitle', 'isupper', 'join', 'ljust', 'lower', 'lstrip', 'maketrans', 'partition', 'removeprefix', 'removesuffix', 'replace', 'rfind', 'rindex', 'rjust', 'rpartition', 'rsplit', 'rstrip', 'split', 'splitlines', 'startswith', 'strip', 'swapcase', 'title', 'translate', 'upper', 'zfill']\n",
      "['__abs__', '__add__', '__and__', '__bool__', '__ceil__', '__class__', '__delattr__', '__dir__', '__divmod__', '__doc__', '__eq__', '__float__', '__floor__', '__floordiv__', '__format__', '__ge__', '__getattribute__', '__getnewargs__', '__getstate__', '__gt__', '__hash__', '__index__', '__init__', '__init_subclass__', '__int__', '__invert__', '__le__', '__lshift__', '__lt__', '__mod__', '__mul__', '__ne__', '__neg__', '__new__', '__or__', '__pos__', '__pow__', '__radd__', '__rand__', '__rdivmod__', '__reduce__', '__reduce_ex__', '__repr__', '__rfloordiv__', '__rlshift__', '__rmod__', '__rmul__', '__ror__', '__round__', '__rpow__', '__rrshift__', '__rshift__', '__rsub__', '__rtruediv__', '__rxor__', '__setattr__', '__sizeof__', '__str__', '__sub__', '__subclasshook__', '__truediv__', '__trunc__', '__xor__', 'as_integer_ratio', 'bit_count', 'bit_length', 'conjugate', 'denominator', 'from_bytes', 'imag', 'is_integer', 'numerator', 'real', 'to_bytes']\n"
     ]
    }
   ],
   "source": [
    "# dir built-in function\n",
    "print(dir(str))\n",
    "print(dir(int))"
   ]
  },
  {
   "cell_type": "code",
   "execution_count": 19,
   "id": "de05b2d0",
   "metadata": {},
   "outputs": [
    {
     "name": "stdout",
     "output_type": "stream",
     "text": [
      "Help on method_descriptor:\n",
      "\n",
      "strip(self, chars=None, /)\n",
      "    Return a copy of the string with leading and trailing whitespace removed.\n",
      "\n",
      "    If chars is given and not None, remove characters in chars instead.\n",
      "\n"
     ]
    }
   ],
   "source": [
    "# help BIF\n",
    "help(str.strip)"
   ]
  },
  {
   "cell_type": "code",
   "execution_count": 21,
   "id": "e263871d",
   "metadata": {},
   "outputs": [
    {
     "name": "stdout",
     "output_type": "stream",
     "text": [
      "'Hello'\n"
     ]
    }
   ],
   "source": [
    "# strip method\n",
    "text = \"    Hello    \"\n",
    "print(\"'\" + text.strip() + \"'\")"
   ]
  },
  {
   "cell_type": "code",
   "execution_count": 26,
   "id": "034cdb18",
   "metadata": {},
   "outputs": [
    {
     "name": "stdout",
     "output_type": "stream",
     "text": [
      "I love C# (what about Python?)\n"
     ]
    }
   ],
   "source": [
    "# replace\n",
    "msg = \"I love Python (what about Python?)\"\n",
    "print(msg.replace(\"Python\", \"C#\", 1)) # only replace up to 1 instances of Python"
   ]
  },
  {
   "cell_type": "code",
   "execution_count": 31,
   "id": "1aee6edf",
   "metadata": {},
   "outputs": [
    {
     "name": "stdout",
     "output_type": "stream",
     "text": [
      "Caspian Keyes\n"
     ]
    }
   ],
   "source": [
    "first_name = \"caspian\"\n",
    "last_name = \"keyes\"\n",
    "full_name = f\"{first_name.title()} {last_name.title()}\"\n",
    "print(full_name)"
   ]
  },
  {
   "cell_type": "code",
   "execution_count": 33,
   "id": "2bff2ee9",
   "metadata": {},
   "outputs": [
    {
     "name": "stdout",
     "output_type": "stream",
     "text": [
      "Hello! Hello! Hello! Hello! Hello! \n"
     ]
    }
   ],
   "source": [
    "# repetition\n",
    "print(\"Hello! \" * 5)"
   ]
  },
  {
   "cell_type": "code",
   "execution_count": null,
   "id": "871bfa91",
   "metadata": {},
   "outputs": [],
   "source": []
  }
 ],
 "metadata": {
  "kernelspec": {
   "display_name": "Python 3",
   "language": "python",
   "name": "python3"
  },
  "language_info": {
   "codemirror_mode": {
    "name": "ipython",
    "version": 3
   },
   "file_extension": ".py",
   "mimetype": "text/x-python",
   "name": "python",
   "nbconvert_exporter": "python",
   "pygments_lexer": "ipython3",
   "version": "3.12.1"
  }
 },
 "nbformat": 4,
 "nbformat_minor": 5
}
