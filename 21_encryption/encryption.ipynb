{
 "cells": [
  {
   "cell_type": "code",
   "execution_count": 10,
   "id": "fa867fd2",
   "metadata": {},
   "outputs": [
    {
     "name": "stdout",
     "output_type": "stream",
     "text": [
      "Public key (e, n): (17, 3233)\n",
      "Private Key (d, n): (2753, 3233)\n",
      "Original message: 11\n",
      "Encrypted text: 3061\n",
      "Decrypted text: 11\n"
     ]
    }
   ],
   "source": [
    "def generate_keys():\n",
    "    # Take 2 prime numbers\n",
    "    p = 61\n",
    "    q = 53\n",
    "\n",
    "    # Calculate the product of primes\n",
    "    n = p * q # 3233\n",
    "\n",
    "    # Create a public component (e)\n",
    "    # Will be coprime of n (GCD of two divisors is 1, i.e. gcd(n, e) = 1)\n",
    "    e = 17 # TODO: make function to calculate\n",
    "\n",
    "    # Calculate the private component (d)\n",
    "    phi = (p - 1) * (q - 1)\n",
    "    d = pow(e, -1, phi)\n",
    "\n",
    "    # Return tuple of tuples\n",
    "    return (e, n), (d, n) # (public), (private)\n",
    "\n",
    "def encrypt(msg, public_key):\n",
    "    e, n = public_key\n",
    "    return pow(msg, e, n)\n",
    "\n",
    "def decrypt(msg, private_key):\n",
    "    d, n = private_key\n",
    "    return pow(msg, d, n)\n",
    "\n",
    "msg = 11 # data to send\n",
    "\n",
    "public_key, private_key = generate_keys()\n",
    "print(f\"Public key (e, n): {public_key}\")\n",
    "print(f\"Private Key (d, n): {private_key}\")\n",
    "\n",
    "print(f\"Original message: {msg}\")\n",
    "encrypted = encrypt(msg, public_key)\n",
    "print(f\"Encrypted text: {encrypted}\")\n",
    "decrypted = decrypt(encrypted, private_key)\n",
    "print(f\"Decrypted text: {decrypted}\")\n",
    "\n"
   ]
  },
  {
   "cell_type": "code",
   "execution_count": null,
   "id": "f4b34150",
   "metadata": {},
   "outputs": [],
   "source": []
  }
 ],
 "metadata": {
  "kernelspec": {
   "display_name": "Python 3",
   "language": "python",
   "name": "python3"
  },
  "language_info": {
   "codemirror_mode": {
    "name": "ipython",
    "version": 3
   },
   "file_extension": ".py",
   "mimetype": "text/x-python",
   "name": "python",
   "nbconvert_exporter": "python",
   "pygments_lexer": "ipython3",
   "version": "3.12.1"
  }
 },
 "nbformat": 4,
 "nbformat_minor": 5
}
