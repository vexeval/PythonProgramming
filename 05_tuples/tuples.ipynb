{
 "cells": [
  {
   "cell_type": "code",
   "execution_count": 10,
   "id": "670a3774",
   "metadata": {},
   "outputs": [
    {
     "name": "stdout",
     "output_type": "stream",
     "text": [
      "(1, 2, 'Hello', 3.14)\n",
      "True\n",
      "False\n",
      "1 2 Hello 3.14\n"
     ]
    }
   ],
   "source": [
    "# Tuples: Immutable (cannot be changed), ordered collection\n",
    "my_tuple = (1, 2, \"Hello\", 3.14) # defined with parentheses\n",
    "print(my_tuple)\n",
    "\n",
    "# Cannot modify values\n",
    "# my_tuple[2] = 5;\n",
    "\n",
    "# Membership Testing\n",
    "print(1 in my_tuple)\n",
    "print(5 in my_tuple)\n",
    "\n",
    "# Tuple unpacking\n",
    "a, b, c, d = my_tuple\n",
    "print(a, b, c, d)"
   ]
  },
  {
   "cell_type": "code",
   "execution_count": 19,
   "id": "bede29bd",
   "metadata": {},
   "outputs": [
    {
     "name": "stdout",
     "output_type": "stream",
     "text": [
      "((1, 2, 3), (4, 5, 6), (7, 8, 9))\n",
      "(7, 8, 9)\n",
      "8\n"
     ]
    }
   ],
   "source": [
    "# Nested Tuple\n",
    "points = (\n",
    "    (1, 2, 3),\n",
    "    (4, 5, 6),\n",
    "    (7, 8, 9)\n",
    ")\n",
    "\n",
    "print(points)\n",
    "print(points[2])\n",
    "print(points[2][1])"
   ]
  }
 ],
 "metadata": {
  "kernelspec": {
   "display_name": "Python 3",
   "language": "python",
   "name": "python3"
  },
  "language_info": {
   "codemirror_mode": {
    "name": "ipython",
    "version": 3
   },
   "file_extension": ".py",
   "mimetype": "text/x-python",
   "name": "python",
   "nbconvert_exporter": "python",
   "pygments_lexer": "ipython3",
   "version": "3.12.1"
  }
 },
 "nbformat": 4,
 "nbformat_minor": 5
}
