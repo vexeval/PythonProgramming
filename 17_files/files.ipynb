{
 "cells": [
  {
   "cell_type": "code",
   "execution_count": 2,
   "id": "c6ff433e",
   "metadata": {},
   "outputs": [],
   "source": [
    "# Create text files in the current directory\n",
    "# 1.txt 2.txt 3.txt 4.txt 5.txt\n",
    "\n",
    "for i in range(1, 6):\n",
    "    with open(f\"files/{i}.txt\", 'w') as file:\n",
    "        file.write(f\"Writing into file #{i}\")"
   ]
  },
  {
   "cell_type": "code",
   "execution_count": null,
   "id": "cf1c774a",
   "metadata": {},
   "outputs": [
    {
     "name": "stdout",
     "output_type": "stream",
     "text": [
      "/workspaces/PythonProgramming/17_files/files/test.py\n",
      "test.py\n",
      "/workspaces/PythonProgramming/17_files/files\n",
      "/workspaces/PythonProgramming/17_files\n",
      ".py\n",
      "Exist: True\n",
      "Is file: True\n",
      "Is directory: False\n",
      "/workspaces/PythonProgramming/17_files/files/dir1\n",
      "4.txt\n",
      "3.txt\n",
      "test.py\n",
      "sample.txt\n",
      "1.txt\n",
      "files_names.txt\n",
      "5.txt\n",
      "2.txt\n"
     ]
    },
    {
     "ename": "AttributeError",
     "evalue": "'PosixPath' object has no attribute 'write'",
     "output_type": "error",
     "traceback": [
      "\u001b[31m---------------------------------------------------------------------------\u001b[39m",
      "\u001b[31mAttributeError\u001b[39m                            Traceback (most recent call last)",
      "\u001b[36mCell\u001b[39m\u001b[36m \u001b[39m\u001b[32mIn[28]\u001b[39m\u001b[32m, line 38\u001b[39m\n\u001b[32m     36\u001b[39m \u001b[38;5;28;01mfor\u001b[39;00m fl \u001b[38;5;129;01min\u001b[39;00m cur.parent.iterdir(): \u001b[38;5;66;03m# iterdir: returns list of files in directory\u001b[39;00m\n\u001b[32m     37\u001b[39m     \u001b[38;5;28;01mif\u001b[39;00m (fl.is_file()):\n\u001b[32m---> \u001b[39m\u001b[32m38\u001b[39m         \u001b[43mfl\u001b[49m\u001b[43m.\u001b[49m\u001b[43mwrite\u001b[49m(fl.name)\n",
      "\u001b[31mAttributeError\u001b[39m: 'PosixPath' object has no attribute 'write'"
     ]
    }
   ],
   "source": [
    "# Working with file paths\n",
    "from pathlib import Path\n",
    "cur = Path(\"files/test.py\")\n",
    "\n",
    "# Show some Path attributes\n",
    "print(cur.absolute()) # absolute path\n",
    "print(cur.name) # file name\n",
    "print(cur.absolute().parent) # parent of file\n",
    "print(cur.absolute().parent.parent) # grandparent of file\n",
    "print(cur.suffix) # file extension\n",
    "\n",
    "# Methods\n",
    "print(f\"Exist: {cur.exists()}\") # bool: does the file exist\n",
    "print(f\"Is file: {cur.is_file()}\") # bool: is file\n",
    "print(f\"Is directory: {cur.is_dir()}\") # bool: is directory\n",
    "\n",
    "# Create directories\n",
    "dir_name1 = \"dir1\"\n",
    "dir_name2 = \"dir2\"\n",
    "dir_name3 = \"dir3\"\n",
    "dirs = [dir_name1, dir_name2, dir_name3]\n",
    "new_path = Path(cur.absolute().parent / dir_name1)\n",
    "print(new_path.absolute())\n",
    "\n",
    "for dir in dirs:\n",
    "    new_path = Path(cur.absolute().parent / dir)\n",
    "    if not new_path.exists():\n",
    "        new_path.mkdir()\n",
    "\n",
    "# Create a list of files in the current directory\n",
    "for file in cur.parent.iterdir(): # iterdir: returns list of files in directory\n",
    "    if (file.is_file()):\n",
    "        print(file.name)\n",
    "\n",
    "# TODO: print only txts, all new line, full path to each file\n",
    "with open(\"files/files_names.txt\", 'w') as fl:\n",
    "    for fl in cur.parent.iterdir(): # iterdir: returns list of files in directory\n",
    "        if (fl.is_file()):\n",
    "            fl.write(fl.name)"
   ]
  },
  {
   "cell_type": "code",
   "execution_count": null,
   "id": "32dd26f7",
   "metadata": {},
   "outputs": [],
   "source": []
  }
 ],
 "metadata": {
  "kernelspec": {
   "display_name": "Python 3",
   "language": "python",
   "name": "python3"
  },
  "language_info": {
   "codemirror_mode": {
    "name": "ipython",
    "version": 3
   },
   "file_extension": ".py",
   "mimetype": "text/x-python",
   "name": "python",
   "nbconvert_exporter": "python",
   "pygments_lexer": "ipython3",
   "version": "3.12.1"
  }
 },
 "nbformat": 4,
 "nbformat_minor": 5
}
