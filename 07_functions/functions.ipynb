{
 "cells": [
  {
   "cell_type": "markdown",
   "id": "0f9d0f04",
   "metadata": {},
   "source": [
    "# This guy's playin minesweeper ->>"
   ]
  },
  {
   "cell_type": "code",
   "execution_count": null,
   "id": "4c0b79bb",
   "metadata": {},
   "outputs": [
    {
     "name": "stdout",
     "output_type": "stream",
     "text": [
      "Those Who Know.\n",
      "17\n",
      "name: Caspian\n",
      "age: 18\n",
      "city: Palo Alto\n"
     ]
    }
   ],
   "source": [
    "# Function\n",
    "def ThoseWhoKnow(message=\"Those who know\"):\n",
    "    return message\n",
    "\n",
    "print(ThoseWhoKnow(\"Those Who Know.\"))\n",
    "\n",
    "# Variable-length arguments\n",
    "def sum_numbers(*args):\n",
    "    total = 0\n",
    "    for num in args:\n",
    "        total += num\n",
    "    return total\n",
    "    \n",
    "print(sum_numbers(3, 4, 10))\n",
    "\n",
    "# Dictionary-accepting arguments\n",
    "def print_info(**kwargs):\n",
    "    for key, value in kwargs.items():\n",
    "        print(f\"{key}: {value}\")\n",
    "\n",
    "print_info(name=\"Caspian\", age=18, city=\"Palo Alto\")"
   ]
  },
  {
   "cell_type": "code",
   "execution_count": null,
   "id": "4ba05cde",
   "metadata": {},
   "outputs": [
    {
     "name": "stdout",
     "output_type": "stream",
     "text": [
      "10\n",
      "24\n",
      "4\n",
      "None\n"
     ]
    }
   ],
   "source": [
    "# Accpets several values, with the last element string indicating the operation (sum, product, or max)\n",
    "def process_numbers(*args):\n",
    "    # pass # ignores function/continues\n",
    "    if not args:\n",
    "        return 0\n",
    "    operation = args[-1]\n",
    "    if operation == \"sum\":\n",
    "        return sum(args[:-1])\n",
    "    elif operation == \"product\":\n",
    "        result = 1\n",
    "        for num in args[:-1]:\n",
    "            result *= num\n",
    "        return result\n",
    "    elif operation == \"max\":\n",
    "        return max(args[:-1])\n",
    "    return None\n",
    "\n",
    "print(process_numbers(1, 2, 3, 4, \"sum\"))\n",
    "print(process_numbers(1, 2, 3, 4, \"product\"))\n",
    "print(process_numbers(1, 2, 3, 4, \"max\"))\n",
    "print(process_numbers(1, 2, 3, 4, \"average\"))"
   ]
  },
  {
   "cell_type": "code",
   "execution_count": null,
   "id": "5a82be23",
   "metadata": {},
   "outputs": [],
   "source": [
    "# def create_message(*args, **kwargs):\n",
    "\n",
    "\n",
    "# print(create_message(\"1\", \"2\", \"Hello\", seperator = \"-\"))"
   ]
  }
 ],
 "metadata": {
  "kernelspec": {
   "display_name": "Python 3",
   "language": "python",
   "name": "python3"
  },
  "language_info": {
   "codemirror_mode": {
    "name": "ipython",
    "version": 3
   },
   "file_extension": ".py",
   "mimetype": "text/x-python",
   "name": "python",
   "nbconvert_exporter": "python",
   "pygments_lexer": "ipython3",
   "version": "3.12.1"
  }
 },
 "nbformat": 4,
 "nbformat_minor": 5
}
