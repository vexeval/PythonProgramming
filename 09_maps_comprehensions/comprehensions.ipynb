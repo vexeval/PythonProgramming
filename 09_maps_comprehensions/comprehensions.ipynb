{
 "cells": [
  {
   "cell_type": "code",
   "execution_count": 1,
   "id": "b1f64bcf",
   "metadata": {},
   "outputs": [
    {
     "name": "stdout",
     "output_type": "stream",
     "text": [
      "[0, 1, 4, 9, 16]\n",
      "[0, 2, 4, 6, 8]\n"
     ]
    }
   ],
   "source": [
    "# Comprehensions are precise ways to create lists, dictionaries, or sets by applying an expression to each item in an iterable, often with an optional condition.\n",
    "# [expression for item in iterable if condition]\n",
    "\n",
    "# Create list of squares for numbers 0 to 4\n",
    "squares = [x**2 for x in range(5)]\n",
    "print(squares) # out: [0, 1, 4, 9, 16]\n",
    "\n",
    "evens = [x for x in range(10) if x % 2 == 0] # evens within a range\n",
    "print(evens)"
   ]
  },
  {
   "cell_type": "code",
   "execution_count": 5,
   "id": "55da7019",
   "metadata": {},
   "outputs": [
    {
     "name": "stdout",
     "output_type": "stream",
     "text": [
      "[16, 36, 64, 100, 144, 196, 256, 324]\n",
      "[100, 144, 196, 256, 324, 400, 484, 576, 676, 784, 900, 1024, 1156, 1296, 1444, 1600, 1764, 1936, 2116, 2304, 2500, 2704, 2916, 3136, 3364, 3600, 3844, 4096, 4356, 4624, 4900, 5184, 5476, 5776, 6084, 6400, 6724, 7056, 7396, 7744, 8100, 8464, 8836, 9216, 9604, 10000]\n"
     ]
    }
   ],
   "source": [
    "# Create a function that returns squares of even numbers in the given range\n",
    "def squares_of_evens(start, end):\n",
    "    evenSquares = [x**2 for x in range(start, end+1) if x % 2 == 0]\n",
    "    return evenSquares\n",
    "\n",
    "print(squares_of_evens(4, 19))\n",
    "print(squares_of_evens(10, 100))"
   ]
  },
  {
   "cell_type": "code",
   "execution_count": null,
   "id": "63e4924a",
   "metadata": {},
   "outputs": [
    {
     "name": "stdout",
     "output_type": "stream",
     "text": [
      "[\"YOU'RE\", 'FIGHTING', 'WATCH', 'EVERYONE', 'AROUND']\n"
     ]
    }
   ],
   "source": [
    "# \n",
    "def long_upper_words(words):\n",
    "    \"\"\"Return a list of uppercase words longer than 3 characters\"\"\"\n",
    "    return [word.upper() for word in words if len(word) > 3]\n",
    "\n",
    "words = [\"you're\", \"fighting\", \"so\", \"you\", \"can\", \"watch\", \"everyone\", \"around\", \"you\", \"die\"]\n",
    "print(long_upper_words(words))"
   ]
  },
  {
   "cell_type": "code",
   "execution_count": 9,
   "id": "6f94d0b0",
   "metadata": {},
   "outputs": [
    {
     "name": "stdout",
     "output_type": "stream",
     "text": [
      "{}\n"
     ]
    }
   ],
   "source": [
    "# Create a function that returns a dictionary mapping each word to its length from a list of words\n",
    "def word_lengths(words):\n",
    "    return { } # TODO\n",
    "\n",
    "print(word_lengths(words))"
   ]
  },
  {
   "cell_type": "code",
   "execution_count": null,
   "id": "bf32055c",
   "metadata": {},
   "outputs": [],
   "source": []
  }
 ],
 "metadata": {
  "kernelspec": {
   "display_name": "Python 3",
   "language": "python",
   "name": "python3"
  },
  "language_info": {
   "codemirror_mode": {
    "name": "ipython",
    "version": 3
   },
   "file_extension": ".py",
   "mimetype": "text/x-python",
   "name": "python",
   "nbconvert_exporter": "python",
   "pygments_lexer": "ipython3",
   "version": "3.12.1"
  }
 },
 "nbformat": 4,
 "nbformat_minor": 5
}
