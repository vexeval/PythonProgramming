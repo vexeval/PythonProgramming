{
 "cells": [
  {
   "cell_type": "markdown",
   "id": "3433470a",
   "metadata": {},
   "source": [
    "# Python is being evil"
   ]
  },
  {
   "cell_type": "code",
   "execution_count": 3,
   "id": "410b4cf6",
   "metadata": {},
   "outputs": [
    {
     "name": "stdout",
     "output_type": "stream",
     "text": [
      "All warefare is based on deception\n"
     ]
    }
   ],
   "source": [
    "# self refers to an instance of the class\n",
    "class Dog:\n",
    "    def bark(self): # instance method\n",
    "        return \"All warefare is based on deception\"\n",
    "\n",
    "# create instance of Dog\n",
    "my_dog = Dog()\n",
    "\n",
    "print(my_dog.bark())"
   ]
  },
  {
   "cell_type": "code",
   "execution_count": 6,
   "id": "4163a278",
   "metadata": {},
   "outputs": [
    {
     "name": "stdout",
     "output_type": "stream",
     "text": [
      "64\n"
     ]
    }
   ],
   "source": [
    "class Square:\n",
    "    side = 8\n",
    "    # create an instance of method area\n",
    "    def getArea(self):\n",
    "        return self.side**2\n",
    "    \n",
    "sq1 = Square()\n",
    "print(sq1.getArea())"
   ]
  },
  {
   "cell_type": "code",
   "execution_count": 7,
   "id": "f03fa696",
   "metadata": {},
   "outputs": [
    {
     "name": "stdout",
     "output_type": "stream",
     "text": [
      "Jerma\n"
     ]
    }
   ],
   "source": [
    "# __init__ method (constructor)\n",
    "# used to initialize properties of a new object\n",
    "class Cat:\n",
    "    def __init__(self, name):\n",
    "        self.name = name\n",
    "\n",
    "jerma = Cat(\"Jerma\")\n",
    "print(jerma.name)"
   ]
  },
  {
   "cell_type": "code",
   "execution_count": null,
   "id": "b3bdd457",
   "metadata": {},
   "outputs": [],
   "source": [
    "class ConnectionAbortedError:\n",
    "    def __init__(self, model):\n",
    "        model = \"\" # TODO finish, make instance method drive that returns string like [model] is driving!\n",
    "         "
   ]
  }
 ],
 "metadata": {
  "kernelspec": {
   "display_name": "Python 3",
   "language": "python",
   "name": "python3"
  },
  "language_info": {
   "codemirror_mode": {
    "name": "ipython",
    "version": 3
   },
   "file_extension": ".py",
   "mimetype": "text/x-python",
   "name": "python",
   "nbconvert_exporter": "python",
   "pygments_lexer": "ipython3",
   "version": "3.12.1"
  }
 },
 "nbformat": 4,
 "nbformat_minor": 5
}
