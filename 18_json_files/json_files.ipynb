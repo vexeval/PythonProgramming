{
 "cells": [
  {
   "cell_type": "code",
   "execution_count": 9,
   "id": "1bde4010",
   "metadata": {},
   "outputs": [
    {
     "name": "stdout",
     "output_type": "stream",
     "text": [
      "/workspaces/PythonProgramming\n",
      "/workspaces/PythonProgramming/16_fraction_class/fraction.py 2447 bytes\n",
      "/workspaces/PythonProgramming/13_class_methods/class_methods.py 700 bytes\n",
      "/workspaces/PythonProgramming/14_inheritance/inheritance.py 1389 bytes\n",
      "/workspaces/PythonProgramming/17_files/files.py 830 bytes\n",
      "/workspaces/PythonProgramming/15_course_class/course.py 743 bytes\n",
      "/workspaces/PythonProgramming/04_lists/all_same.py 321 bytes\n",
      "/workspaces/PythonProgramming/12_static_methods/static_method.py 786 bytes\n",
      "/workspaces/PythonProgramming/08_lambda_function/lambda_function.py 438 bytes\n",
      "/workspaces/PythonProgramming/10_decorators/measure.py 318 bytes\n",
      "/workspaces/PythonProgramming/10_decorators/mutils.py 279 bytes\n",
      "/workspaces/PythonProgramming/17_files/files/test.py 0 bytes\n"
     ]
    }
   ],
   "source": [
    "# Recursive search\n",
    "from pathlib import Path\n",
    "\n",
    "p = Path(\".\").absolute().parent\n",
    "\n",
    "print(p.absolute())\n",
    "\n",
    "# Find all Python files\n",
    "for py_file in p.rglob(\"*.py\"):\n",
    "    print(py_file, py_file.stat().st_size, \"bytes\")"
   ]
  },
  {
   "cell_type": "code",
   "execution_count": 22,
   "id": "125e2a0e",
   "metadata": {},
   "outputs": [
    {
     "name": "stdout",
     "output_type": "stream",
     "text": [
      "{'name': 'Christian', 'age': 'idk', 'languages': ['Python', 'English', 'Impala'], 'hello': <__main__.Hello object at 0x768869864080>}\n"
     ]
    }
   ],
   "source": [
    "# Create a json file\n",
    "import json\n",
    "# Json functions (dump: creates a json file, load)\n",
    "\n",
    "class Hello:\n",
    "    def __init__(self):\n",
    "        self.msg = \"Hello\"\n",
    "    def __str__(self):\n",
    "        return self.msg\n",
    "\n",
    "class HelloEncoder(json.JSONEncoder):\n",
    "    def default(self, obj):\n",
    "        if isinstance(obj, Hello):\n",
    "            return {\n",
    "                \"class\": \"Hello\",\n",
    "                \"message\": obj.__str__()\n",
    "            }\n",
    "        return super().default(obj)\n",
    "\n",
    "# Data\n",
    "data = {}\n",
    "data[\"name\"] = \"Christian\"\n",
    "data[\"age\"] = \"idk\"\n",
    "data[\"languages\"] = [\"Python\", \"English\", \"Impala\"]\n",
    "data[\"hello\"] = Hello()\n",
    "\n",
    "# Write into a json file\n",
    "with open(\"files/user.json\", \"w\") as file:\n",
    "    json.dump(data, file, indent=4, cls=HelloEncoder) # indent - pretty print\n",
    "\n",
    "# deserialization (decoding)\n",
    "def hello_decoder(obj):\n",
    "    if isinstance(obj, dict):\n",
    "        cl = obj.get(\"class\", None)\n",
    "        if cl and cl == \"Hello\":\n",
    "            return Hello()\n",
    "    return obj\n",
    "\n",
    "with open(\"files/user.json\", \"r\") as file:\n",
    "    data = json.load(file, object_hook=hello_decoder)\n",
    "\n",
    "print(data)"
   ]
  },
  {
   "cell_type": "code",
   "execution_count": 23,
   "id": "bc08b9aa",
   "metadata": {},
   "outputs": [
    {
     "name": "stdout",
     "output_type": "stream",
     "text": [
      "{'name': 'Christian', 'age': 'idk', 'languages': ['Python', 'English', 'Impala'], 'hello': {'class': 'Hello', 'message': 'Hello'}}\n",
      "Christian\n",
      "idk\n",
      "{'class': 'Hello', 'message': 'Hello'}\n"
     ]
    }
   ],
   "source": [
    "# Read from a json file\n",
    "import json\n",
    "\n",
    "with open(\"files/user.json\", \"r\") as file:\n",
    "    data = json.load(file)\n",
    "\n",
    "# Access data\n",
    "print(data)\n",
    "print(data.get(\"name\", \"not found\"))\n",
    "print(data.get(\"age\", \"not found\"))\n",
    "print(data.get(\"hello\", \"not found\"))\n"
   ]
  },
  {
   "cell_type": "code",
   "execution_count": 5,
   "id": "052ad0ac",
   "metadata": {},
   "outputs": [
    {
     "name": "stdout",
     "output_type": "stream",
     "text": [
      "Romaguera-Crona\n",
      "Deckow-Crist\n",
      "Romaguera-Jacobson\n",
      "Robel-Corkery\n",
      "Keebler LLC\n",
      "Considine-Lockman\n",
      "Johns Group\n",
      "Abernathy Group\n",
      "Yost and Sons\n",
      "Hoeger LLC\n"
     ]
    }
   ],
   "source": [
    "# Perform a request to a website\n",
    "import requests\n",
    "import json\n",
    "\n",
    "response = requests.get(\"https://jsonplaceholder.typicode.com/users\")\n",
    "\n",
    "# print(response.json())\n",
    "\n",
    "with open(\"files/response.json\", \"w\") as file:\n",
    "    json.dump(response.json(), file, indent=4)\n",
    "\n",
    "# todo completed: Read the info from response.json. Print the list of company names\n",
    "with open(\"files/response.json\", \"r\") as res_file:\n",
    "    data = json.load(res_file)\n",
    "\n",
    "for item in data:\n",
    "    print(item[\"company\"][\"name\"])\n"
   ]
  },
  {
   "cell_type": "code",
   "execution_count": null,
   "id": "0a43851d",
   "metadata": {},
   "outputs": [],
   "source": []
  }
 ],
 "metadata": {
  "kernelspec": {
   "display_name": "Python 3",
   "language": "python",
   "name": "python3"
  },
  "language_info": {
   "codemirror_mode": {
    "name": "ipython",
    "version": 3
   },
   "file_extension": ".py",
   "mimetype": "text/x-python",
   "name": "python",
   "nbconvert_exporter": "python",
   "pygments_lexer": "ipython3",
   "version": "3.12.1"
  }
 },
 "nbformat": 4,
 "nbformat_minor": 5
}
