{
 "cells": [
  {
   "cell_type": "code",
   "execution_count": null,
   "id": "40c8383b",
   "metadata": {},
   "outputs": [
    {
     "name": "stdout",
     "output_type": "stream",
     "text": [
      "Comments are not executed.\n"
     ]
    }
   ],
   "source": [
    "# Single-line comment\n",
    "\"\"\"\n",
    "Multi-line comment\n",
    "8/20/25\n",
    "Intro to Python\n",
    "\"\"\"\n",
    "\n",
    "print(\"Comments are not executed.\")"
   ]
  },
  {
   "cell_type": "code",
   "execution_count": 2,
   "id": "4cd660f7",
   "metadata": {},
   "outputs": [
    {
     "name": "stdout",
     "output_type": "stream",
     "text": [
      "Jack 25 5.6\n"
     ]
    }
   ],
   "source": [
    "# Variables\n",
    "name = \"Jack\"\n",
    "age = 25\n",
    "height = 5.6\n",
    "\n",
    "print(name, age, height)"
   ]
  },
  {
   "cell_type": "code",
   "execution_count": 6,
   "id": "e9e45d72",
   "metadata": {},
   "outputs": [
    {
     "name": "stdout",
     "output_type": "stream",
     "text": [
      "Name: Matt, Age: 19, Height: 6.2\n"
     ]
    }
   ],
   "source": [
    "# Declaring Variables with Type Annotations\n",
    "name: str = \"Matt\"\n",
    "age: int = 19\n",
    "height: float = 6.2\n",
    "\n",
    "print(f\"Name: {name}, Age: {age}, Height: {height}\")"
   ]
  },
  {
   "cell_type": "code",
   "execution_count": null,
   "id": "f7cec338",
   "metadata": {},
   "outputs": [
    {
     "name": "stdout",
     "output_type": "stream",
     "text": [
      "1.8\n",
      "1\n",
      "59049\n",
      "4\n"
     ]
    }
   ],
   "source": [
    "# Arithmetic\n",
    "a = 5\n",
    "b = 9\n",
    "print(b / a)\n",
    "print(b // a)   # integer division\n",
    "print(b**a)     # exponent\n",
    "print(b % a)    # modulo/remainder"
   ]
  },
  {
   "cell_type": "code",
   "execution_count": null,
   "id": "e94fd0ad",
   "metadata": {},
   "outputs": [],
   "source": []
  }
 ],
 "metadata": {
  "kernelspec": {
   "display_name": "Python 3",
   "language": "python",
   "name": "python3"
  },
  "language_info": {
   "codemirror_mode": {
    "name": "ipython",
    "version": 3
   },
   "file_extension": ".py",
   "mimetype": "text/x-python",
   "name": "python",
   "nbconvert_exporter": "python",
   "pygments_lexer": "ipython3",
   "version": "3.12.1"
  }
 },
 "nbformat": 4,
 "nbformat_minor": 5
}
