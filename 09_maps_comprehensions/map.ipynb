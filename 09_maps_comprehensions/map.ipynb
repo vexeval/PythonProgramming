{
 "cells": [
  {
   "cell_type": "code",
   "execution_count": null,
   "id": "214c6008",
   "metadata": {},
   "outputs": [
    {
     "name": "stdout",
     "output_type": "stream",
     "text": [
      "[1, 4, 9, 16]\n"
     ]
    }
   ],
   "source": [
    "# The map() function applies a given function to each item in an iterable(s) and returns a map object\n",
    "\n",
    "numbers = [1, 2, 3, 4]\n",
    "squared = map(lambda x: x**2, numbers)\n",
    "print(list(squared))"
   ]
  },
  {
   "cell_type": "code",
   "execution_count": 2,
   "id": "7ebd659c",
   "metadata": {},
   "outputs": [
    {
     "name": "stdout",
     "output_type": "stream",
     "text": [
      "[2, 4, 6, 8]\n"
     ]
    }
   ],
   "source": [
    "def double(x):\n",
    "    return x * 2\n",
    "numbers = [1, 2, 3, 4]\n",
    "doubled = map(double, numbers)\n",
    "print(list(doubled))"
   ]
  },
  {
   "cell_type": "code",
   "execution_count": 7,
   "id": "abc523d6",
   "metadata": {},
   "outputs": [
    {
     "name": "stdout",
     "output_type": "stream",
     "text": [
      "['WHAT', 'WILL', 'YOU', 'HAVE', 'AFTER', 'FIVE', 'HUNDRED', 'YEARS']\n"
     ]
    }
   ],
   "source": [
    "# Capitalize each word in list\n",
    "words = ['what', 'will', 'you', 'have', 'after', 'five', 'hundred', 'years']\n",
    "cw = map(str.upper, words)\n",
    "print(list(cw))"
   ]
  },
  {
   "cell_type": "code",
   "execution_count": null,
   "id": "c9790a52",
   "metadata": {},
   "outputs": [
    {
     "name": "stdout",
     "output_type": "stream",
     "text": [
      "['Hello World', 'Python Programming', 'Data Science']\n"
     ]
    }
   ],
   "source": [
    "# Cleaning up text\n",
    "texts = ['  Hello   World    ', \"Python    Programming \", ' Data     Science  ']\n",
    "cm = map(lambda s: \" \".join(s.split()), texts)\n",
    "\n",
    "print(list(cm))"
   ]
  },
  {
   "cell_type": "code",
   "execution_count": 17,
   "id": "80f9dc3b",
   "metadata": {},
   "outputs": [
    {
     "name": "stdout",
     "output_type": "stream",
     "text": [
      "['dkim@example.com', 'mkim@example.com', 'ckeyes@example.com']\n"
     ]
    }
   ],
   "source": [
    "# In dictionaries\n",
    "users = [\n",
    "    {'id': 1, 'name': \"David\", 'email': 'dkim@example.com'},\n",
    "    {'id': 2, 'name': \"Maddie\", 'email': 'mkim@example.com'},\n",
    "    {'id': 3, 'name': \"Caspian\", 'email': 'ckeyes@example.com'}\n",
    "]\n",
    "\n",
    "emails = map(lambda user: user['email'], users)\n",
    "print(list(emails))"
   ]
  },
  {
   "cell_type": "code",
   "execution_count": 24,
   "id": "71fdac04",
   "metadata": {},
   "outputs": [
    {
     "name": "stdout",
     "output_type": "stream",
     "text": [
      "[2, 4, 6]\n",
      "[4, 16, 36]\n"
     ]
    }
   ],
   "source": [
    "# The filter() function applies a predicate function (one returning True or False) to each item in an iterable and returns an iterator\n",
    "numbers = [1, 2, 3, 4, 5, 6]\n",
    "f = filter(lambda x: x % 2 == 0, numbers) # Filters for only even numbers\n",
    "print(list(f))\n",
    "\n",
    "numbers = [1, 2, 3, 4, 5, 6]\n",
    "result = map(lambda x: x**2, filter(lambda x: x % 2 == 0, numbers)) # Filters for even numbers and squares them\n",
    "print(list(result))"
   ]
  }
 ],
 "metadata": {
  "kernelspec": {
   "display_name": "Python 3",
   "language": "python",
   "name": "python3"
  },
  "language_info": {
   "codemirror_mode": {
    "name": "ipython",
    "version": 3
   },
   "file_extension": ".py",
   "mimetype": "text/x-python",
   "name": "python",
   "nbconvert_exporter": "python",
   "pygments_lexer": "ipython3",
   "version": "3.12.1"
  }
 },
 "nbformat": 4,
 "nbformat_minor": 5
}
